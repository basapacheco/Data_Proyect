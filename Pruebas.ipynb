{
 "cells": [
  {
   "cell_type": "code",
   "execution_count": null,
   "metadata": {},
   "outputs": [],
   "source": [
    "Peliculas2.reset_index(level=0, inplace=True)\n",
    "Peliculas2.drop(['index'], axis = 'columns', inplace=True)"
   ]
  },
  {
   "cell_type": "code",
   "execution_count": null,
   "metadata": {},
   "outputs": [],
   "source": [
    "Peliculas2.drop(['allgenders_0age_votes','allgenders_18age_votes','allgenders_30age_votes','allgenders_45age_votes'], axis = 'columns', inplace=True)"
   ]
  },
  {
   "cell_type": "code",
   "execution_count": null,
   "metadata": {},
   "outputs": [],
   "source": [
    "Peliculas2.drop(['males_allages_votes','males_0age_votes','males_18age_votes','males_30age_votes','males_45age_votes'], axis = 'columns', inplace=True)"
   ]
  },
  {
   "cell_type": "code",
   "execution_count": null,
   "metadata": {},
   "outputs": [],
   "source": [
    "Peliculas2.drop(['females_allages_votes','females_0age_votes','females_18age_votes','females_30age_votes','females_45age_votes'], axis = 'columns', inplace=True)"
   ]
  },
  {
   "cell_type": "code",
   "execution_count": null,
   "metadata": {},
   "outputs": [],
   "source": []
  },
  {
   "cell_type": "code",
   "execution_count": null,
   "metadata": {},
   "outputs": [],
   "source": []
  },
  {
   "cell_type": "code",
   "execution_count": null,
   "metadata": {},
   "outputs": [],
   "source": [
    "Peliculas = moviesandtitles = pd.merge(left=moviesandtitles,right=ratings, left_on='imdb_title_id', right_on='imdb_title_id')\n",
    "Peliculas.drop_duplicates('imdb_title_id')\n",
    "Peliculas.sort_values('title', inplace=True)\n",
    "Peliculas.drop_duplicates('imdb_title_id', keep=\"last\", inplace=True)\n",
    "Peliculas.sort_index(inplace=True) \n",
    "Peliculas = Peliculas.drop(['imdb_title_id'], axis=1)\n",
    "Peliculas.drop(['original_title', 'date_published', 'imdb_name_id', 'category', 'job', 'characters', 'weighted_average_vote', 'total_votes', 'mean_vote', 'median_vote', 'votes_10', 'votes_9', 'votes_8', 'votes_7', 'votes_6', 'votes_5', 'votes_4', 'votes_3', 'votes_2', 'votes_1', 'top1000_voters_rating', 'top1000_voters_votes', 'us_voters_rating', 'us_voters_votes', 'non_us_voters_rating', 'non_us_voters_votes'], axis = 'columns', inplace=True)\n",
    "Peliculas.drop(['ordering'], axis = 'columns', inplace=True)\n",
    "Peliculas.reset_index(level=0, inplace=True)\n",
    "Peliculas.drop(['index'], axis = 'columns', inplace=True)"
   ]
  },
  {
   "cell_type": "code",
   "execution_count": null,
   "metadata": {},
   "outputs": [],
   "source": [
    "usa\n",
    "india\n",
    "uk"
   ]
  },
  {
   "cell_type": "code",
   "execution_count": null,
   "metadata": {},
   "outputs": [],
   "source": [
    "idiomas_traducidos = Peliculas.language.value_counts().head(20)\n",
    "idiomas_traducidos"
   ]
  },
  {
   "cell_type": "code",
   "execution_count": null,
   "metadata": {},
   "outputs": [],
   "source": [
    "languages = Peliculas.language.value_counts().head(20)\n",
    "\n",
    "plt.figure(figsize=(12,8))\n",
    "plt.title('¿Que idiomas en su versión original tiene mayor representación?')\n",
    "sns.barplot(x=languages.values, y=languages.index)"
   ]
  },
  {
   "cell_type": "code",
   "execution_count": null,
   "metadata": {},
   "outputs": [],
   "source": []
  },
  {
   "cell_type": "code",
   "execution_count": null,
   "metadata": {},
   "outputs": [],
   "source": [
    "Países_productores = Peliculas.country.value_counts().head(20)\n",
    "Países_productores"
   ]
  },
  {
   "cell_type": "code",
   "execution_count": null,
   "metadata": {},
   "outputs": [],
   "source": [
    "country = Peliculas.country.value_counts().head(20)\n",
    "\n",
    "plt.figure(figsize=(12,8))\n",
    "plt.title('¿Que país ha sido el que a producido más peliculas?')\n",
    "sns.barplot(x=country.values, y=country.index)"
   ]
  },
  {
   "cell_type": "code",
   "execution_count": null,
   "metadata": {},
   "outputs": [],
   "source": [
    "Paises = country.round(3).astype('str')\n",
    "\n",
    "fig1, ax1 = plt.subplots(figsize=(20,15), facecolor='white')\n",
    "ax1.pie(country, labels=Paises, labeldistance=1.05,\n",
    "        shadow=True)\n",
    "plt.title('Contenido creado por país', fontsize=20)\n",
    "plt.legend(labels=country.index, loc='upper right')\n",
    "plt.show()\n",
    "\n"
   ]
  }
 ],
 "metadata": {
  "kernelspec": {
   "display_name": "Python 3",
   "language": "python",
   "name": "python3"
  },
  "language_info": {
   "codemirror_mode": {
    "name": "ipython",
    "version": 3
   },
   "file_extension": ".py",
   "mimetype": "text/x-python",
   "name": "python",
   "nbconvert_exporter": "python",
   "pygments_lexer": "ipython3",
   "version": "3.8.3"
  }
 },
 "nbformat": 4,
 "nbformat_minor": 4
}
